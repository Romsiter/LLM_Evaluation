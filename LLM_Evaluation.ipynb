{
  "nbformat": 4,
  "nbformat_minor": 0,
  "metadata": {
    "colab": {
      "provenance": []
    },
    "kernelspec": {
      "name": "python3",
      "display_name": "Python 3"
    },
    "language_info": {
      "name": "python"
    }
  },
  "cells": [
    {
      "cell_type": "markdown",
      "source": [
        "Installing Packages"
      ],
      "metadata": {
        "id": "iaQUqjS_0f5q"
      }
    },
    {
      "cell_type": "code",
      "source": [
        "!pip install langchain\n",
        "!pip install pymysql\n",
        "!pip install openai==0.28\n",
        "!pip install mysql-connector-python"
      ],
      "metadata": {
        "colab": {
          "base_uri": "https://localhost:8080/"
        },
        "id": "phbhd4BLEk8O",
        "outputId": "575b9c62-a656-4b07-b4f4-972571f658a3"
      },
      "execution_count": 1,
      "outputs": [
        {
          "output_type": "stream",
          "name": "stdout",
          "text": [
            "Collecting langchain\n",
            "  Downloading langchain-0.1.11-py3-none-any.whl (807 kB)\n",
            "\u001b[2K     \u001b[90m━━━━━━━━━━━━━━━━━━━━━━━━━━━━━━━━━━━━━━━━\u001b[0m \u001b[32m807.5/807.5 kB\u001b[0m \u001b[31m7.9 MB/s\u001b[0m eta \u001b[36m0:00:00\u001b[0m\n",
            "\u001b[?25hRequirement already satisfied: PyYAML>=5.3 in /usr/local/lib/python3.10/dist-packages (from langchain) (6.0.1)\n",
            "Requirement already satisfied: SQLAlchemy<3,>=1.4 in /usr/local/lib/python3.10/dist-packages (from langchain) (2.0.28)\n",
            "Requirement already satisfied: aiohttp<4.0.0,>=3.8.3 in /usr/local/lib/python3.10/dist-packages (from langchain) (3.9.3)\n",
            "Requirement already satisfied: async-timeout<5.0.0,>=4.0.0 in /usr/local/lib/python3.10/dist-packages (from langchain) (4.0.3)\n",
            "Collecting dataclasses-json<0.7,>=0.5.7 (from langchain)\n",
            "  Downloading dataclasses_json-0.6.4-py3-none-any.whl (28 kB)\n",
            "Collecting jsonpatch<2.0,>=1.33 (from langchain)\n",
            "  Downloading jsonpatch-1.33-py2.py3-none-any.whl (12 kB)\n",
            "Collecting langchain-community<0.1,>=0.0.25 (from langchain)\n",
            "  Downloading langchain_community-0.0.27-py3-none-any.whl (1.8 MB)\n",
            "\u001b[2K     \u001b[90m━━━━━━━━━━━━━━━━━━━━━━━━━━━━━━━━━━━━━━━━\u001b[0m \u001b[32m1.8/1.8 MB\u001b[0m \u001b[31m13.7 MB/s\u001b[0m eta \u001b[36m0:00:00\u001b[0m\n",
            "\u001b[?25hCollecting langchain-core<0.2,>=0.1.29 (from langchain)\n",
            "  Downloading langchain_core-0.1.30-py3-none-any.whl (256 kB)\n",
            "\u001b[2K     \u001b[90m━━━━━━━━━━━━━━━━━━━━━━━━━━━━━━━━━━━━━━━━\u001b[0m \u001b[32m256.9/256.9 kB\u001b[0m \u001b[31m12.1 MB/s\u001b[0m eta \u001b[36m0:00:00\u001b[0m\n",
            "\u001b[?25hCollecting langchain-text-splitters<0.1,>=0.0.1 (from langchain)\n",
            "  Downloading langchain_text_splitters-0.0.1-py3-none-any.whl (21 kB)\n",
            "Collecting langsmith<0.2.0,>=0.1.17 (from langchain)\n",
            "  Downloading langsmith-0.1.23-py3-none-any.whl (66 kB)\n",
            "\u001b[2K     \u001b[90m━━━━━━━━━━━━━━━━━━━━━━━━━━━━━━━━━━━━━━━━\u001b[0m \u001b[32m66.6/66.6 kB\u001b[0m \u001b[31m7.7 MB/s\u001b[0m eta \u001b[36m0:00:00\u001b[0m\n",
            "\u001b[?25hRequirement already satisfied: numpy<2,>=1 in /usr/local/lib/python3.10/dist-packages (from langchain) (1.25.2)\n",
            "Requirement already satisfied: pydantic<3,>=1 in /usr/local/lib/python3.10/dist-packages (from langchain) (2.6.3)\n",
            "Requirement already satisfied: requests<3,>=2 in /usr/local/lib/python3.10/dist-packages (from langchain) (2.31.0)\n",
            "Requirement already satisfied: tenacity<9.0.0,>=8.1.0 in /usr/local/lib/python3.10/dist-packages (from langchain) (8.2.3)\n",
            "Requirement already satisfied: aiosignal>=1.1.2 in /usr/local/lib/python3.10/dist-packages (from aiohttp<4.0.0,>=3.8.3->langchain) (1.3.1)\n",
            "Requirement already satisfied: attrs>=17.3.0 in /usr/local/lib/python3.10/dist-packages (from aiohttp<4.0.0,>=3.8.3->langchain) (23.2.0)\n",
            "Requirement already satisfied: frozenlist>=1.1.1 in /usr/local/lib/python3.10/dist-packages (from aiohttp<4.0.0,>=3.8.3->langchain) (1.4.1)\n",
            "Requirement already satisfied: multidict<7.0,>=4.5 in /usr/local/lib/python3.10/dist-packages (from aiohttp<4.0.0,>=3.8.3->langchain) (6.0.5)\n",
            "Requirement already satisfied: yarl<2.0,>=1.0 in /usr/local/lib/python3.10/dist-packages (from aiohttp<4.0.0,>=3.8.3->langchain) (1.9.4)\n",
            "Collecting marshmallow<4.0.0,>=3.18.0 (from dataclasses-json<0.7,>=0.5.7->langchain)\n",
            "  Downloading marshmallow-3.21.1-py3-none-any.whl (49 kB)\n",
            "\u001b[2K     \u001b[90m━━━━━━━━━━━━━━━━━━━━━━━━━━━━━━━━━━━━━━━━\u001b[0m \u001b[32m49.4/49.4 kB\u001b[0m \u001b[31m6.0 MB/s\u001b[0m eta \u001b[36m0:00:00\u001b[0m\n",
            "\u001b[?25hCollecting typing-inspect<1,>=0.4.0 (from dataclasses-json<0.7,>=0.5.7->langchain)\n",
            "  Downloading typing_inspect-0.9.0-py3-none-any.whl (8.8 kB)\n",
            "Collecting jsonpointer>=1.9 (from jsonpatch<2.0,>=1.33->langchain)\n",
            "  Downloading jsonpointer-2.4-py2.py3-none-any.whl (7.8 kB)\n",
            "Requirement already satisfied: anyio<5,>=3 in /usr/local/lib/python3.10/dist-packages (from langchain-core<0.2,>=0.1.29->langchain) (3.7.1)\n",
            "Requirement already satisfied: packaging<24.0,>=23.2 in /usr/local/lib/python3.10/dist-packages (from langchain-core<0.2,>=0.1.29->langchain) (23.2)\n",
            "Collecting orjson<4.0.0,>=3.9.14 (from langsmith<0.2.0,>=0.1.17->langchain)\n",
            "  Downloading orjson-3.9.15-cp310-cp310-manylinux_2_17_x86_64.manylinux2014_x86_64.whl (138 kB)\n",
            "\u001b[2K     \u001b[90m━━━━━━━━━━━━━━━━━━━━━━━━━━━━━━━━━━━━━━━━\u001b[0m \u001b[32m138.5/138.5 kB\u001b[0m \u001b[31m14.6 MB/s\u001b[0m eta \u001b[36m0:00:00\u001b[0m\n",
            "\u001b[?25hRequirement already satisfied: annotated-types>=0.4.0 in /usr/local/lib/python3.10/dist-packages (from pydantic<3,>=1->langchain) (0.6.0)\n",
            "Requirement already satisfied: pydantic-core==2.16.3 in /usr/local/lib/python3.10/dist-packages (from pydantic<3,>=1->langchain) (2.16.3)\n",
            "Requirement already satisfied: typing-extensions>=4.6.1 in /usr/local/lib/python3.10/dist-packages (from pydantic<3,>=1->langchain) (4.10.0)\n",
            "Requirement already satisfied: charset-normalizer<4,>=2 in /usr/local/lib/python3.10/dist-packages (from requests<3,>=2->langchain) (3.3.2)\n",
            "Requirement already satisfied: idna<4,>=2.5 in /usr/local/lib/python3.10/dist-packages (from requests<3,>=2->langchain) (3.6)\n",
            "Requirement already satisfied: urllib3<3,>=1.21.1 in /usr/local/lib/python3.10/dist-packages (from requests<3,>=2->langchain) (2.0.7)\n",
            "Requirement already satisfied: certifi>=2017.4.17 in /usr/local/lib/python3.10/dist-packages (from requests<3,>=2->langchain) (2024.2.2)\n",
            "Requirement already satisfied: greenlet!=0.4.17 in /usr/local/lib/python3.10/dist-packages (from SQLAlchemy<3,>=1.4->langchain) (3.0.3)\n",
            "Requirement already satisfied: sniffio>=1.1 in /usr/local/lib/python3.10/dist-packages (from anyio<5,>=3->langchain-core<0.2,>=0.1.29->langchain) (1.3.1)\n",
            "Requirement already satisfied: exceptiongroup in /usr/local/lib/python3.10/dist-packages (from anyio<5,>=3->langchain-core<0.2,>=0.1.29->langchain) (1.2.0)\n",
            "Collecting mypy-extensions>=0.3.0 (from typing-inspect<1,>=0.4.0->dataclasses-json<0.7,>=0.5.7->langchain)\n",
            "  Downloading mypy_extensions-1.0.0-py3-none-any.whl (4.7 kB)\n",
            "Installing collected packages: orjson, mypy-extensions, marshmallow, jsonpointer, typing-inspect, jsonpatch, langsmith, dataclasses-json, langchain-core, langchain-text-splitters, langchain-community, langchain\n",
            "Successfully installed dataclasses-json-0.6.4 jsonpatch-1.33 jsonpointer-2.4 langchain-0.1.11 langchain-community-0.0.27 langchain-core-0.1.30 langchain-text-splitters-0.0.1 langsmith-0.1.23 marshmallow-3.21.1 mypy-extensions-1.0.0 orjson-3.9.15 typing-inspect-0.9.0\n",
            "Collecting pymysql\n",
            "  Downloading PyMySQL-1.1.0-py3-none-any.whl (44 kB)\n",
            "\u001b[2K     \u001b[90m━━━━━━━━━━━━━━━━━━━━━━━━━━━━━━━━━━━━━━━━\u001b[0m \u001b[32m44.8/44.8 kB\u001b[0m \u001b[31m1.6 MB/s\u001b[0m eta \u001b[36m0:00:00\u001b[0m\n",
            "\u001b[?25hInstalling collected packages: pymysql\n",
            "Successfully installed pymysql-1.1.0\n",
            "Collecting openai==0.28\n",
            "  Downloading openai-0.28.0-py3-none-any.whl (76 kB)\n",
            "\u001b[2K     \u001b[90m━━━━━━━━━━━━━━━━━━━━━━━━━━━━━━━━━━━━━━━━\u001b[0m \u001b[32m76.5/76.5 kB\u001b[0m \u001b[31m2.1 MB/s\u001b[0m eta \u001b[36m0:00:00\u001b[0m\n",
            "\u001b[?25hRequirement already satisfied: requests>=2.20 in /usr/local/lib/python3.10/dist-packages (from openai==0.28) (2.31.0)\n",
            "Requirement already satisfied: tqdm in /usr/local/lib/python3.10/dist-packages (from openai==0.28) (4.66.2)\n",
            "Requirement already satisfied: aiohttp in /usr/local/lib/python3.10/dist-packages (from openai==0.28) (3.9.3)\n",
            "Requirement already satisfied: charset-normalizer<4,>=2 in /usr/local/lib/python3.10/dist-packages (from requests>=2.20->openai==0.28) (3.3.2)\n",
            "Requirement already satisfied: idna<4,>=2.5 in /usr/local/lib/python3.10/dist-packages (from requests>=2.20->openai==0.28) (3.6)\n",
            "Requirement already satisfied: urllib3<3,>=1.21.1 in /usr/local/lib/python3.10/dist-packages (from requests>=2.20->openai==0.28) (2.0.7)\n",
            "Requirement already satisfied: certifi>=2017.4.17 in /usr/local/lib/python3.10/dist-packages (from requests>=2.20->openai==0.28) (2024.2.2)\n",
            "Requirement already satisfied: aiosignal>=1.1.2 in /usr/local/lib/python3.10/dist-packages (from aiohttp->openai==0.28) (1.3.1)\n",
            "Requirement already satisfied: attrs>=17.3.0 in /usr/local/lib/python3.10/dist-packages (from aiohttp->openai==0.28) (23.2.0)\n",
            "Requirement already satisfied: frozenlist>=1.1.1 in /usr/local/lib/python3.10/dist-packages (from aiohttp->openai==0.28) (1.4.1)\n",
            "Requirement already satisfied: multidict<7.0,>=4.5 in /usr/local/lib/python3.10/dist-packages (from aiohttp->openai==0.28) (6.0.5)\n",
            "Requirement already satisfied: yarl<2.0,>=1.0 in /usr/local/lib/python3.10/dist-packages (from aiohttp->openai==0.28) (1.9.4)\n",
            "Requirement already satisfied: async-timeout<5.0,>=4.0 in /usr/local/lib/python3.10/dist-packages (from aiohttp->openai==0.28) (4.0.3)\n",
            "Installing collected packages: openai\n",
            "Successfully installed openai-0.28.0\n"
          ]
        }
      ]
    },
    {
      "cell_type": "code",
      "source": [
        "from langchain.chat_models import ChatOpenAI\n",
        "from langchain.embeddings.openai import OpenAIEmbeddings\n",
        "import re\n",
        "import pandas as pd\n",
        "from sqlalchemy import create_engine"
      ],
      "metadata": {
        "id": "xS2Rd7yz0okp"
      },
      "execution_count": null,
      "outputs": []
    },
    {
      "cell_type": "markdown",
      "source": [
        "SETTING SQL IN BACKGROUND"
      ],
      "metadata": {
        "id": "3YwiJRmLtnvm"
      }
    },
    {
      "cell_type": "code",
      "source": [
        "import mysql.connector as mysql\n",
        "myconn = mysql.connect(host='sql6.freesqldatabase.com',database='sql6690123', user='sql6690123', password='zRdA1keUjF')"
      ],
      "metadata": {
        "id": "Qv_EV1UPWseR"
      },
      "execution_count": 13,
      "outputs": []
    },
    {
      "cell_type": "code",
      "source": [
        "import mysql.connector\n",
        "\n",
        "def execute_sql_query(host, user, password, database, schema_file, sql_query):\n",
        "    # Connect to the MySQL database\n",
        "    conn = mysql.connector.connect(\n",
        "        host=host,\n",
        "        user=user,\n",
        "        password=password,\n",
        "        database=database\n",
        "    )\n",
        "\n",
        "    # Create a cursor object\n",
        "    cursor = conn.cursor()\n",
        "\n",
        "    # Load the schema\n",
        "    with open(schema_file, 'r') as f:\n",
        "        schema_sql = f.read()\n",
        "\n",
        "    # Execute the schema SQL\n",
        "    #cursor.execute(schema_sql)\n",
        "\n",
        "    # Execute the provided SQL query\n",
        "    cursor.execute(sql_query)\n",
        "\n",
        "    # Get the result\n",
        "    result = cursor.fetchall()\n",
        "\n",
        "    # Close the cursor and connection\n",
        "    cursor.close()\n",
        "    conn.close()\n",
        "\n",
        "    return result\n",
        "\n",
        "if __name__ == \"__main__\":\n",
        "    # Database connection details\n",
        "    host = \"sql6.freesqldatabase.com\"\n",
        "    user = \"sql6690123\"\n",
        "    password = \"zRdA1keUjF\"\n",
        "    database = \"sql6690123\"\n",
        "\n",
        "    # Schema file path\n",
        "    schema_file = \"/content/schema.sql\"\n",
        "\n",
        "    # SQL query\n",
        "    sql_query = '''SELECT *FROM  head'''\n",
        "\n",
        "    # Execute the SQL query and get the result\n",
        "    result = execute_sql_query(host, user, password, database, schema_file, sql_query)\n",
        "\n",
        "    # Print the result\n",
        "    for row in result:\n",
        "        print(row)"
      ],
      "metadata": {
        "colab": {
          "base_uri": "https://localhost:8080/"
        },
        "id": "2pPa0C6ObNuM",
        "outputId": "e50a3d82-13c4-4518-93b0-e2f3374406eb"
      },
      "execution_count": 54,
      "outputs": [
        {
          "output_type": "stream",
          "name": "stdout",
          "text": [
            "(1, 'Tiger Woods', 'Alabama', 67.0)\n",
            "(2, 'Sergio García', 'California', 68.0)\n",
            "(3, 'K. J. Choi', 'Alabama', 69.0)\n",
            "(4, 'Dudley Hart', 'California', 52.0)\n",
            "(5, 'Jeff Maggert', 'Delaware', 53.0)\n",
            "(6, 'Billy Mayfair', 'California', 69.0)\n",
            "(7, 'Stewart Cink', 'Florida', 50.0)\n",
            "(8, 'Nick Faldo', 'California', 56.0)\n",
            "(9, 'Pádraig Harrington', 'Connecticut', 43.0)\n",
            "(10, 'Franklin Langham', 'Connecticut', 67.0)\n"
          ]
        }
      ]
    },
    {
      "cell_type": "markdown",
      "source": [
        "Evaluation Function"
      ],
      "metadata": {
        "id": "__WjYfxh0tw9"
      }
    },
    {
      "cell_type": "code",
      "source": [
        "\n",
        "\n",
        "LIKE_PATTERN = r\"LIKE[\\s\\S]*'\"\n",
        "\n",
        "def escape_percent(match):\n",
        "    group = match.group(0)\n",
        "    escaped_group = group.replace(\"%\", \"%%\")\n",
        "    return escaped_group\n",
        "\n",
        "def query_mysql_db(query, db_name, db_creds, timeout=10.0):\n",
        "    try:\n",
        "        db_url = f\"mysql+pymysql://{db_creds['user']}:{db_creds['password']}@{db_creds['host']}:{db_creds['port']}/{db_name}\"\n",
        "        engine = create_engine(db_url)\n",
        "        escaped_query = re.sub(LIKE_PATTERN, escape_percent, query, flags=re.IGNORECASE)\n",
        "        results_df = pd.read_sql_query(escaped_query, engine, timeout=timeout)\n",
        "        engine.dispose()\n",
        "        return results_df\n",
        "    except Exception as e:\n",
        "        if engine:\n",
        "            engine.dispose()\n",
        "        raise e\n",
        "\n",
        "def compare_df(df_gold, df_gen, question):\n",
        "\n",
        "    df_gold = pd.DataFrame(df_gold)\n",
        "    df_gen = pd.DataFrame(df_gen)\n",
        "    df_gold = df_gold.drop_duplicates().sort_values(by=list(df_gold.columns)).reset_index(drop=True)\n",
        "    df_gen = df_gen.drop_duplicates().sort_values(by=list(df_gen.columns)).reset_index(drop=True)\n",
        "\n",
        "    if df_gold.equals(df_gen):\n",
        "        return True\n",
        "    else:\n",
        "        return False\n",
        "\n",
        "\n",
        "def evaluate_sql_generation1(textual_query, context_data, expected_sql_query):\n",
        "    generated_sql_query = sql_generation(textual_query, context_data, expected_sql_query)\n",
        "\n",
        "    try:\n",
        "        results_gen  = execute_sql_query(host, user, password, database, schema_file, generated_sql_query)\n",
        "        # Print the result\n",
        "        for row in results_gen:\n",
        "          print(row)\n",
        "        results_gold = execute_sql_query(host, user, password, database, schema_file, expected_sql_query)\n",
        "        for row in results_gold:\n",
        "          print(row)\n",
        "\n",
        "        if compare_df(results_gold, results_gen, textual_query):\n",
        "            return f\"Generated SQL Query: {generated_sql_query}\\nCorrect!\"\n",
        "        else:\n",
        "            return f\"Generated SQL Query: {generated_sql_query}\\nIncorrect. Expected: {expected_sql_query}\"\n",
        "    except Exception as e:\n",
        "        return f\"Error executing query: {e}\""
      ],
      "metadata": {
        "id": "XGXs7uaQQY89"
      },
      "execution_count": 48,
      "outputs": []
    },
    {
      "cell_type": "markdown",
      "source": [
        "Main"
      ],
      "metadata": {
        "id": "qkvqZOy74s8o"
      }
    },
    {
      "cell_type": "code",
      "source": [
        "import openai\n",
        "\n",
        "# Set up your OpenAI API key\n",
        "openai.api_key = \"sk-\""
      ],
      "metadata": {
        "id": "suA5XZ5i6HKG"
      },
      "execution_count": 76,
      "outputs": []
    },
    {
      "cell_type": "code",
      "source": [
        "\n",
        "\n",
        "def sql_generation(textual_query, context_data, expected_sql_query):\n",
        "    \"\"\"\n",
        "    Evaluate the LLM for SQL query generation.\n",
        "\n",
        "    Args:\n",
        "        textual_query (str): The natural language question or query.\n",
        "        context_data (str): The SQL schema or table definitions.\n",
        "        expected_sql_query (str): The expected SQL query.\n",
        "\n",
        "    Returns:\n",
        "        str: The generated SQL query and its correctness.\n",
        "    \"\"\"\n",
        "    prompt = f\"\"\"\n",
        "    ### Task\n",
        "    Generate a SQL query to answer the following question:\n",
        "    {textual_query}\n",
        "\n",
        "    ### Database Schema\n",
        "    The query will run on a database with the following schema:\n",
        "    {context_data}\n",
        "\n",
        "    ### Instructions\n",
        "    {instructions}\n",
        "\n",
        "\n",
        "\n",
        "    {k_shot_prompt}\n",
        "\n",
        "    ### Answer\n",
        "    ```sql\n",
        "    Natural Language Query: {textual_query}\n",
        "\n",
        "    Context Data (SQL Schema):\n",
        "    {context_data}\n",
        "\n",
        "    Instructions: Dont use JOIN in generated queries. Here are some examples of concise SQL queries:\n",
        "\n",
        "    Example 1: SELECT name, age FROM users WHERE age > 30\n",
        "    Example 2: SELECT COUNT(*) FROM orders WHERE status = 'completed'\n",
        "    Example 3: SELECT creation, name, budget_in_billions FROM department\n",
        "\n",
        "    Generated SQL Query:\n",
        "    \"\"\"\n",
        "    response = openai.Completion.create(\n",
        "        engine=\"gpt-3.5-turbo-instruct\",\n",
        "        prompt=prompt,\n",
        "        max_tokens=600,\n",
        "        n=1,\n",
        "        stop=None,\n",
        "        temperature=0,\n",
        "        seed=42\n",
        "    )\n",
        "\n",
        "\n",
        "    generated_sql_query = response.choices[0].text.strip()\n",
        "\n",
        "\n",
        "    return generated_sql_query\n",
        "\n",
        "\n",
        "# Example usage\n",
        "textual_query = \"List the creation year, name and budget of each department.\"\n",
        "instructions=\"dion't use inner join in queries\"\n",
        "k_shot_prompt=\"Example 1: SELECT name, age FROM users WHERE age > 30\\nExample 2: SELECT COUNT(*) FROM orders WHERE status = 'completed'\\nExample 3: SELECT creation ,  name ,  budget_in_billions FROM department\"\n",
        "context_data = \"\"\"\n",
        "-- Enable foreign key constraints\n",
        "SET foreign_key_checks = 1;\n",
        "\n",
        "-- Begin transaction\n",
        "START TRANSACTION;\n",
        "\n",
        "-- Create department table\n",
        "CREATE TABLE IF NOT EXISTS department (\n",
        "    Department_ID int,\n",
        "    Name text,\n",
        "    Creation text,\n",
        "    Ranking int,\n",
        "    Budget_in_Billions real,\n",
        "    Num_Employees real,\n",
        "    PRIMARY KEY (Department_ID)\n",
        ");\n",
        "\n",
        "-- Insert data into department table\n",
        "INSERT INTO department VALUES\n",
        "(1,'State','1789',1,9.96,30265.99),\n",
        "(2,'Treasury','1789',2,11.1,115896.99),\n",
        "(3,'Defense','1947',3,439.3,3000000.0),\n",
        "(4,'Justice','1870',4,23.4,112556.99),\n",
        "(5,'Interior','1849',5,10.7,71436.0),\n",
        "(6,'Agriculture','1889',6,77.6,109831.99),\n",
        "(7,'Commerce','1903',7,6.2,36000.0),\n",
        "(8,'Labor','1913',8,59.7,17346.99),\n",
        "(9,'Health and Human Services','1953',9,543.2,67000.0),\n",
        "(10,'Housing and Urban Development','1965',10,46.2,10600.0),\n",
        "(11,'Transportation','1966',11,58.0,58622.0),\n",
        "(12,'Energy','1977',12,21.5,116100.0),\n",
        "(13,'Education','1979',13,62.8,4487.0),\n",
        "(14,'Veterans Affairs','1989',14,73.2,235000.0),\n",
        "(15,'Homeland Security','2002',15,44.6,208000.0);\n",
        "\n",
        "-- Create head table\n",
        "CREATE TABLE IF NOT EXISTS head (\n",
        "    head_ID int,\n",
        "    name text,\n",
        "    born_state text,\n",
        "    age real,\n",
        "    PRIMARY KEY (head_ID)\n",
        ");\n",
        "\n",
        "-- Insert data into head table\n",
        "INSERT INTO head VALUES\n",
        "(1,'Tiger Woods','Alabama',67),\n",
        "(2,'Sergio García','California',68),\n",
        "(3,'K. J. Choi','Alabama',69),\n",
        "(4,'Dudley Hart','California',52),\n",
        "(5,'Jeff Maggert','Delaware',53),\n",
        "(6,'Billy Mayfair','California',69),\n",
        "(7,'Stewart Cink','Florida',50),\n",
        "(8,'Nick Faldo','California',56),\n",
        "(9,'Pádraig Harrington','Connecticut',43),\n",
        "(10,'Franklin Langham','Connecticut',67);\n",
        "\n",
        "-- Create management table\n",
        "CREATE TABLE IF NOT EXISTS management (\n",
        "    department_ID int,\n",
        "    head_ID int,\n",
        "    temporary_acting text,\n",
        "    PRIMARY KEY (department_ID, head_ID),\n",
        "    FOREIGN KEY (department_ID) REFERENCES department(Department_ID),\n",
        "    FOREIGN KEY (head_ID) REFERENCES head(head_ID)\n",
        ");\n",
        "\n",
        "-- Insert data into management table\n",
        "INSERT INTO management VALUES\n",
        "(2,5,'Yes'),\n",
        "(15,4,'Yes'),\n",
        "(2,6,'Yes'),\n",
        "(7,3,'No'),\n",
        "(11,10,'No');\n",
        "\n",
        "-- Commit transaction\n",
        "COMMIT;\n",
        "\n",
        "\n",
        "\"\"\"\n",
        "expected_sql_query = \"SELECT creation ,  name ,  budget_in_billions FROM department\"\n",
        "\n"
      ],
      "metadata": {
        "id": "pDxyDzuvDpXg"
      },
      "execution_count": 74,
      "outputs": []
    },
    {
      "cell_type": "code",
      "source": [
        "result = evaluate_sql_generation1(textual_query, context_data, expected_sql_query)\n",
        "print(result)"
      ],
      "metadata": {
        "colab": {
          "base_uri": "https://localhost:8080/"
        },
        "id": "mPv9KDvvFBAi",
        "outputId": "13763334-f420-4903-b024-4ab00524e5bf"
      },
      "execution_count": 75,
      "outputs": [
        {
          "output_type": "stream",
          "name": "stdout",
          "text": [
            "('1789', 'State', 9.96)\n",
            "('1789', 'Treasury', 11.1)\n",
            "('1947', 'Defense', 439.3)\n",
            "('1870', 'Justice', 23.4)\n",
            "('1849', 'Interior', 10.7)\n",
            "('1889', 'Agriculture', 77.6)\n",
            "('1903', 'Commerce', 6.2)\n",
            "('1913', 'Labor', 59.7)\n",
            "('1953', 'Health and Human Services', 543.2)\n",
            "('1965', 'Housing and Urban Development', 46.2)\n",
            "('1966', 'Transportation', 58.0)\n",
            "('1977', 'Energy', 21.5)\n",
            "('1979', 'Education', 62.8)\n",
            "('1989', 'Veterans Affairs', 73.2)\n",
            "('2002', 'Homeland Security', 44.6)\n",
            "('1789', 'State', 9.96)\n",
            "('1789', 'Treasury', 11.1)\n",
            "('1947', 'Defense', 439.3)\n",
            "('1870', 'Justice', 23.4)\n",
            "('1849', 'Interior', 10.7)\n",
            "('1889', 'Agriculture', 77.6)\n",
            "('1903', 'Commerce', 6.2)\n",
            "('1913', 'Labor', 59.7)\n",
            "('1953', 'Health and Human Services', 543.2)\n",
            "('1965', 'Housing and Urban Development', 46.2)\n",
            "('1966', 'Transportation', 58.0)\n",
            "('1977', 'Energy', 21.5)\n",
            "('1979', 'Education', 62.8)\n",
            "('1989', 'Veterans Affairs', 73.2)\n",
            "('2002', 'Homeland Security', 44.6)\n",
            "Generated SQL Query: SELECT Creation, Name, Budget_in_Billions FROM department\n",
            "Correct!\n"
          ]
        }
      ]
    },
    {
      "cell_type": "code",
      "source": [],
      "metadata": {
        "id": "AAkZfxJ45CYm"
      },
      "execution_count": null,
      "outputs": []
    }
  ]
}